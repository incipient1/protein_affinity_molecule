{
 "cells": [
  {
   "cell_type": "markdown",
   "metadata": {},
   "source": [
    "# DataCastle[药物分子筛选](http://www.dcjingsai.com/common/cmpt/%E5%9F%BA%E4%BA%8E%E4%BA%BA%E5%B7%A5%E6%99%BA%E8%83%BD%E7%9A%84%E8%8D%AF%E7%89%A9%E5%88%86%E5%AD%90%E7%AD%9B%E9%80%89_%E7%AB%9E%E8%B5%9B%E4%BF%A1%E6%81%AF.html)竞赛"
   ]
  },
  {
   "cell_type": "code",
   "execution_count": 1,
   "metadata": {
    "collapsed": true
   },
   "outputs": [],
   "source": [
    "import sklearn\n",
    "from sklearn.metrics import mean_squared_error\n",
    "import math\n",
    "import numpy as np\n",
    "import pandas as pd\n",
    "import matplotlib\n",
    "import matplotlib.pyplot as plt\n",
    "import seaborn as sns\n",
    "%matplotlib inline"
   ]
  },
  {
   "cell_type": "markdown",
   "metadata": {},
   "source": [
    "## 建立指标"
   ]
  },
  {
   "cell_type": "code",
   "execution_count": 3,
   "metadata": {},
   "outputs": [],
   "source": [
    "df_protein_train = pd.read_csv('E:\\\\MySQL_data\\\\datas_molecule\\\\df_protein_train.csv')   "
   ]
  },
  {
   "cell_type": "code",
   "execution_count": null,
   "metadata": {},
   "outputs": [],
   "source": [
    "len(set(df_protein_train.Protein_ID))"
   ]
  },
  {
   "cell_type": "markdown",
   "metadata": {},
   "source": [
    "可以得出Protein_ID有1653个不同的值，蛋白质信息数据没有重复值"
   ]
  },
  {
   "cell_type": "code",
   "execution_count": 4,
   "metadata": {
    "collapsed": true
   },
   "outputs": [],
   "source": [
    "df_affinity_train = pd.read_csv('E:\\\\MySQL_data\\datas_molecule\\\\df_affinity_train.csv')   "
   ]
  },
  {
   "cell_type": "code",
   "execution_count": null,
   "metadata": {},
   "outputs": [],
   "source": [
    "df1 = df_affinity_train.groupby(by = 'Protein_ID',as_index = False).count()['Protein_ID'] \n",
    "len(set(df_affinity_train.Protein_ID))"
   ]
  },
  {
   "cell_type": "code",
   "execution_count": null,
   "metadata": {},
   "outputs": [],
   "source": [
    "set(df_protein_train.Protein_ID).difference(set(df_affinity_train.Protein_ID))"
   ]
  },
  {
   "cell_type": "markdown",
   "metadata": {},
   "source": [
    "这里的df_affinity_train中的Protein_ID只有1650个不同的值，相比df_protein_train中的数据仅少了3个：Protein_ID为1170、1689、1690的蛋白质没有和任何小分子比较过。"
   ]
  },
  {
   "cell_type": "code",
   "execution_count": 5,
   "metadata": {
    "collapsed": true
   },
   "outputs": [],
   "source": [
    "df_molecule = pd.read_csv('E:\\\\MySQL_data\\\\datas_molecule\\\\df_molecule.csv')"
   ]
  },
  {
   "cell_type": "code",
   "execution_count": null,
   "metadata": {},
   "outputs": [],
   "source": [
    "set(df_affinity_train.Molecule_ID).issubset(set(df_molecule.Molecule_ID))"
   ]
  },
  {
   "cell_type": "markdown",
   "metadata": {},
   "source": [
    "训练集中的所有小分子的信息都在小分子信息集中"
   ]
  },
  {
   "cell_type": "markdown",
   "metadata": {},
   "source": [
    "```\n",
    "list1 = [i for i in df_protein_train['Protein_ID'] if i not in df1 ]\n",
    "print(len(list1)) # 这里得出来的值应该是 3，但结果为351，why？\n",
    "\n",
    "list2 = [i for i in df1  if i not in df_protein_train['Protein_ID'] ]\n",
    "print(len(list2)) # 这里得出来的应该是0，但结果是347，why？\n",
    "```"
   ]
  },
  {
   "cell_type": "code",
   "execution_count": null,
   "metadata": {},
   "outputs": [],
   "source": [
    "df_molecule.cyp_3a4.notnull().sum()"
   ]
  },
  {
   "cell_type": "markdown",
   "metadata": {},
   "source": [
    "将df_molecule中的不存在空值的列找出来,"
   ]
  },
  {
   "cell_type": "code",
   "execution_count": null,
   "metadata": {},
   "outputs": [],
   "source": [
    "no_nan_columns = [i for i in df_molecule.columns if df_molecule[i].notnull().sum() == 111216]  \n",
    "have_nan_columns = [i for i in df_molecule.columns if df_molecule[i].notnull().sum() < 111216]  \n",
    "\n",
    "print(have_nan_columns,'\\n',no_nan_columns)"
   ]
  },
  {
   "cell_type": "code",
   "execution_count": null,
   "metadata": {},
   "outputs": [],
   "source": [
    "len(have_nan_columns + no_nan_columns) == len(df_molecule.columns)"
   ]
  },
  {
   "cell_type": "markdown",
   "metadata": {},
   "source": [
    "返回值为True，说明已经将df_Molecule的所有列都划分到这两个list中了。"
   ]
  },
  {
   "cell_type": "code",
   "execution_count": 6,
   "metadata": {
    "collapsed": true,
    "scrolled": true
   },
   "outputs": [],
   "source": [
    "pd.set_option('display.max_columns', 25)\n",
    "df_ki_train = df_affinity_train.merge(df_protein_train,how='left',on = 'Protein_ID').merge(df_molecule,how='left',on = 'Molecule_ID')   "
   ]
  },
  {
   "cell_type": "code",
   "execution_count": null,
   "metadata": {},
   "outputs": [],
   "source": [
    "len(df_ki_train.columns)"
   ]
  },
  {
   "cell_type": "code",
   "execution_count": 7,
   "metadata": {},
   "outputs": [
    {
     "data": {
      "text/plain": [
       "{167}"
      ]
     },
     "execution_count": 7,
     "metadata": {},
     "output_type": "execute_result"
    }
   ],
   "source": [
    "set(df_molecule.Fingerprint.str.split(',').str.len())"
   ]
  },
  {
   "cell_type": "code",
   "execution_count": 29,
   "metadata": {},
   "outputs": [
    {
     "data": {
      "text/html": [
       "<div>\n",
       "<style>\n",
       "    .dataframe thead tr:only-child th {\n",
       "        text-align: right;\n",
       "    }\n",
       "\n",
       "    .dataframe thead th {\n",
       "        text-align: left;\n",
       "    }\n",
       "\n",
       "    .dataframe tbody tr th {\n",
       "        vertical-align: top;\n",
       "    }\n",
       "</style>\n",
       "<table border=\"1\" class=\"dataframe\">\n",
       "  <thead>\n",
       "    <tr style=\"text-align: right;\">\n",
       "      <th></th>\n",
       "      <th>Protein_ID</th>\n",
       "      <th>Molecule_ID</th>\n",
       "      <th>Ki</th>\n",
       "      <th>Sequence</th>\n",
       "      <th>Fingerprint</th>\n",
       "      <th>cyp_3a4</th>\n",
       "      <th>cyp_2c9</th>\n",
       "      <th>cyp_2d6</th>\n",
       "      <th>ames_toxicity</th>\n",
       "      <th>fathead_minnow_toxicity</th>\n",
       "      <th>tetrahymena_pyriformis_toxicity</th>\n",
       "      <th>honey_bee</th>\n",
       "      <th>...</th>\n",
       "      <th>Fingerprint_156</th>\n",
       "      <th>Fingerprint_157</th>\n",
       "      <th>Fingerprint_158</th>\n",
       "      <th>Fingerprint_159</th>\n",
       "      <th>Fingerprint_160</th>\n",
       "      <th>Fingerprint_161</th>\n",
       "      <th>Fingerprint_162</th>\n",
       "      <th>Fingerprint_163</th>\n",
       "      <th>Fingerprint_164</th>\n",
       "      <th>Fingerprint_165</th>\n",
       "      <th>Fingerprint_166</th>\n",
       "      <th>sequence_mw</th>\n",
       "    </tr>\n",
       "  </thead>\n",
       "  <tbody>\n",
       "    <tr>\n",
       "      <th>0</th>\n",
       "      <td>0</td>\n",
       "      <td>0</td>\n",
       "      <td>8.309804</td>\n",
       "      <td>MDNVLPVDSDLSPNISTNTSEPNQFVQPAWQIVLWAAAYTVIVVTS...</td>\n",
       "      <td>1, 0, 0, 1, 0, 1, 0, 1, 0, 0, 0, 1, 0, 0, 0, 0...</td>\n",
       "      <td>0.311594</td>\n",
       "      <td>0.742983</td>\n",
       "      <td>0.363031</td>\n",
       "      <td>0.623255</td>\n",
       "      <td>0.005905</td>\n",
       "      <td>NaN</td>\n",
       "      <td>0.800019</td>\n",
       "      <td>...</td>\n",
       "      <td>0</td>\n",
       "      <td>1</td>\n",
       "      <td>0</td>\n",
       "      <td>0</td>\n",
       "      <td>0</td>\n",
       "      <td>0</td>\n",
       "      <td>1</td>\n",
       "      <td>0</td>\n",
       "      <td>0</td>\n",
       "      <td>1</td>\n",
       "      <td>1</td>\n",
       "      <td>46232.8984</td>\n",
       "    </tr>\n",
       "    <tr>\n",
       "      <th>1</th>\n",
       "      <td>1</td>\n",
       "      <td>1</td>\n",
       "      <td>10.292430</td>\n",
       "      <td>MQWAVGRRWAWAALLLAVAAVLTQVVWLWLGTQSFVFQREEIAQLA...</td>\n",
       "      <td>1, 1, 0, 1, 0, 1, 0, 0, 0, 0, 0, 0, 0, 0, 0, 0...</td>\n",
       "      <td>NaN</td>\n",
       "      <td>0.854373</td>\n",
       "      <td>0.280685</td>\n",
       "      <td>NaN</td>\n",
       "      <td>0.034951</td>\n",
       "      <td>2.174478</td>\n",
       "      <td>0.846931</td>\n",
       "      <td>...</td>\n",
       "      <td>0</td>\n",
       "      <td>1</td>\n",
       "      <td>0</td>\n",
       "      <td>0</td>\n",
       "      <td>0</td>\n",
       "      <td>0</td>\n",
       "      <td>0</td>\n",
       "      <td>0</td>\n",
       "      <td>0</td>\n",
       "      <td>0</td>\n",
       "      <td>1</td>\n",
       "      <td>25109.6784</td>\n",
       "    </tr>\n",
       "    <tr>\n",
       "      <th>2</th>\n",
       "      <td>2</td>\n",
       "      <td>1</td>\n",
       "      <td>6.778586</td>\n",
       "      <td>MDPLNLSWYDDDLERQNWSRPFNGSEGKADRPHYNYYAMLLTLLIF...</td>\n",
       "      <td>1, 1, 0, 1, 0, 1, 0, 0, 0, 0, 0, 0, 0, 0, 0, 0...</td>\n",
       "      <td>NaN</td>\n",
       "      <td>0.854373</td>\n",
       "      <td>0.280685</td>\n",
       "      <td>NaN</td>\n",
       "      <td>0.034951</td>\n",
       "      <td>2.174478</td>\n",
       "      <td>0.846931</td>\n",
       "      <td>...</td>\n",
       "      <td>0</td>\n",
       "      <td>1</td>\n",
       "      <td>0</td>\n",
       "      <td>0</td>\n",
       "      <td>0</td>\n",
       "      <td>0</td>\n",
       "      <td>0</td>\n",
       "      <td>0</td>\n",
       "      <td>0</td>\n",
       "      <td>0</td>\n",
       "      <td>1</td>\n",
       "      <td>50885.9094</td>\n",
       "    </tr>\n",
       "    <tr>\n",
       "      <th>3</th>\n",
       "      <td>1</td>\n",
       "      <td>2</td>\n",
       "      <td>10.769551</td>\n",
       "      <td>MQWAVGRRWAWAALLLAVAAVLTQVVWLWLGTQSFVFQREEIAQLA...</td>\n",
       "      <td>1, 1, 0, 1, 0, 1, 0, 0, 0, 0, 0, 0, 0, 0, 0, 0...</td>\n",
       "      <td>0.102385</td>\n",
       "      <td>0.853763</td>\n",
       "      <td>0.197318</td>\n",
       "      <td>0.745154</td>\n",
       "      <td>0.030430</td>\n",
       "      <td>2.038387</td>\n",
       "      <td>0.854921</td>\n",
       "      <td>...</td>\n",
       "      <td>0</td>\n",
       "      <td>1</td>\n",
       "      <td>0</td>\n",
       "      <td>0</td>\n",
       "      <td>0</td>\n",
       "      <td>0</td>\n",
       "      <td>1</td>\n",
       "      <td>0</td>\n",
       "      <td>0</td>\n",
       "      <td>0</td>\n",
       "      <td>1</td>\n",
       "      <td>25109.6784</td>\n",
       "    </tr>\n",
       "    <tr>\n",
       "      <th>4</th>\n",
       "      <td>2</td>\n",
       "      <td>2</td>\n",
       "      <td>6.170568</td>\n",
       "      <td>MDPLNLSWYDDDLERQNWSRPFNGSEGKADRPHYNYYAMLLTLLIF...</td>\n",
       "      <td>1, 1, 0, 1, 0, 1, 0, 0, 0, 0, 0, 0, 0, 0, 0, 0...</td>\n",
       "      <td>0.102385</td>\n",
       "      <td>0.853763</td>\n",
       "      <td>0.197318</td>\n",
       "      <td>0.745154</td>\n",
       "      <td>0.030430</td>\n",
       "      <td>2.038387</td>\n",
       "      <td>0.854921</td>\n",
       "      <td>...</td>\n",
       "      <td>0</td>\n",
       "      <td>1</td>\n",
       "      <td>0</td>\n",
       "      <td>0</td>\n",
       "      <td>0</td>\n",
       "      <td>0</td>\n",
       "      <td>1</td>\n",
       "      <td>0</td>\n",
       "      <td>0</td>\n",
       "      <td>0</td>\n",
       "      <td>1</td>\n",
       "      <td>50885.9094</td>\n",
       "    </tr>\n",
       "  </tbody>\n",
       "</table>\n",
       "<p>5 rows × 191 columns</p>\n",
       "</div>"
      ],
      "text/plain": [
       "   Protein_ID  Molecule_ID         Ki  \\\n",
       "0           0            0   8.309804   \n",
       "1           1            1  10.292430   \n",
       "2           2            1   6.778586   \n",
       "3           1            2  10.769551   \n",
       "4           2            2   6.170568   \n",
       "\n",
       "                                            Sequence  \\\n",
       "0  MDNVLPVDSDLSPNISTNTSEPNQFVQPAWQIVLWAAAYTVIVVTS...   \n",
       "1  MQWAVGRRWAWAALLLAVAAVLTQVVWLWLGTQSFVFQREEIAQLA...   \n",
       "2  MDPLNLSWYDDDLERQNWSRPFNGSEGKADRPHYNYYAMLLTLLIF...   \n",
       "3  MQWAVGRRWAWAALLLAVAAVLTQVVWLWLGTQSFVFQREEIAQLA...   \n",
       "4  MDPLNLSWYDDDLERQNWSRPFNGSEGKADRPHYNYYAMLLTLLIF...   \n",
       "\n",
       "                                         Fingerprint   cyp_3a4   cyp_2c9  \\\n",
       "0  1, 0, 0, 1, 0, 1, 0, 1, 0, 0, 0, 1, 0, 0, 0, 0...  0.311594  0.742983   \n",
       "1  1, 1, 0, 1, 0, 1, 0, 0, 0, 0, 0, 0, 0, 0, 0, 0...       NaN  0.854373   \n",
       "2  1, 1, 0, 1, 0, 1, 0, 0, 0, 0, 0, 0, 0, 0, 0, 0...       NaN  0.854373   \n",
       "3  1, 1, 0, 1, 0, 1, 0, 0, 0, 0, 0, 0, 0, 0, 0, 0...  0.102385  0.853763   \n",
       "4  1, 1, 0, 1, 0, 1, 0, 0, 0, 0, 0, 0, 0, 0, 0, 0...  0.102385  0.853763   \n",
       "\n",
       "    cyp_2d6  ames_toxicity  fathead_minnow_toxicity  \\\n",
       "0  0.363031       0.623255                 0.005905   \n",
       "1  0.280685            NaN                 0.034951   \n",
       "2  0.280685            NaN                 0.034951   \n",
       "3  0.197318       0.745154                 0.030430   \n",
       "4  0.197318       0.745154                 0.030430   \n",
       "\n",
       "   tetrahymena_pyriformis_toxicity  honey_bee     ...       Fingerprint_156  \\\n",
       "0                              NaN   0.800019     ...                     0   \n",
       "1                         2.174478   0.846931     ...                     0   \n",
       "2                         2.174478   0.846931     ...                     0   \n",
       "3                         2.038387   0.854921     ...                     0   \n",
       "4                         2.038387   0.854921     ...                     0   \n",
       "\n",
       "   Fingerprint_157  Fingerprint_158  Fingerprint_159  Fingerprint_160  \\\n",
       "0                1                0                0                0   \n",
       "1                1                0                0                0   \n",
       "2                1                0                0                0   \n",
       "3                1                0                0                0   \n",
       "4                1                0                0                0   \n",
       "\n",
       "   Fingerprint_161  Fingerprint_162  Fingerprint_163  Fingerprint_164  \\\n",
       "0                0                1                0                0   \n",
       "1                0                0                0                0   \n",
       "2                0                0                0                0   \n",
       "3                0                1                0                0   \n",
       "4                0                1                0                0   \n",
       "\n",
       "   Fingerprint_165  Fingerprint_166  sequence_mw  \n",
       "0                1                1   46232.8984  \n",
       "1                0                1   25109.6784  \n",
       "2                0                1   50885.9094  \n",
       "3                0                1   25109.6784  \n",
       "4                0                1   50885.9094  \n",
       "\n",
       "[5 rows x 191 columns]"
      ]
     },
     "execution_count": 29,
     "metadata": {},
     "output_type": "execute_result"
    }
   ],
   "source": [
    "df_ki_train.head()"
   ]
  },
  {
   "cell_type": "code",
   "execution_count": 9,
   "metadata": {
    "collapsed": true
   },
   "outputs": [],
   "source": [
    "feat = []\n",
    "for i in range(0,len(df_molecule)):\n",
    "    feat.append(df_molecule['Fingerprint'][i].split(', '))\n",
    "\n",
    "feat = pd.DataFrame(feat)\n",
    "feat = feat.astype('int')\n",
    "\n",
    "feat.columns = [\"Fingerprint_{0}\".format(i) for i in range(0,167)] \n",
    "# 每个指纹长度都为167，所以这里range到167\n",
    "\n",
    "feat[\"Molecule_ID\"] = df_molecule['Molecule_ID']"
   ]
  },
  {
   "cell_type": "code",
   "execution_count": 10,
   "metadata": {
    "collapsed": true
   },
   "outputs": [],
   "source": [
    "df_ki_train = df_ki_train.merge(feat,how = 'left',on = 'Molecule_ID')"
   ]
  },
  {
   "cell_type": "code",
   "execution_count": 19,
   "metadata": {},
   "outputs": [
    {
     "name": "stdout",
     "output_type": "stream",
     "text": [
      "744\n",
      "7073 26\n"
     ]
    }
   ],
   "source": [
    "sequence_length = df_ki_train.Sequence.str.len()\n",
    "print(len(set(sequence_length_set)))\n",
    "print(sequence_length.max(),sequence_length.min())"
   ]
  },
  {
   "cell_type": "markdown",
   "metadata": {},
   "source": [
    "sequence有744种不同的长度，最大长度7073，最小长度26，不能采用Onehot编码\n",
    "尝试计算它的分子量"
   ]
  },
  {
   "cell_type": "code",
   "execution_count": 24,
   "metadata": {
    "collapsed": true
   },
   "outputs": [],
   "source": [
    "amino_acid = \"ACDEFGHIKLMNPQRSTVWY\"\n",
    "aa_mw = {'A': 71.0788,'C': 103.1388,'D': 115.0886,'E': 129.1155,\n",
    "        'F': 147.1766,'G': 57.0519,'H': 137.1411,'I': 113.1594,\n",
    "        'K': 128.1741,'L': 113.1594,'M': 131.1926,'N': 114.1038,\n",
    "        'P': 97.1167,'Q': 128.1307,'R': 156.1875,'S': 87.0782,\n",
    "        'T': 101.1051,'V': 99.1326,'W': 186.2132,'Y': 163.176}"
   ]
  },
  {
   "cell_type": "code",
   "execution_count": 25,
   "metadata": {
    "collapsed": true
   },
   "outputs": [],
   "source": [
    "# 计算相对分子质量\n",
    "def mw(x):\n",
    "    m = 0\n",
    "    for i in x:\n",
    "        m += aa_mw.get(i,0)\n",
    "        \n",
    "    return m"
   ]
  },
  {
   "cell_type": "code",
   "execution_count": 28,
   "metadata": {},
   "outputs": [],
   "source": [
    "df_ki_train['sequence_mw'] = df_ki_train['Sequence'].map(mw)"
   ]
  },
  {
   "cell_type": "code",
   "execution_count": 30,
   "metadata": {
    "collapsed": true
   },
   "outputs": [],
   "source": [
    "df_ki_train['sequence_length'] = df_ki_train.Sequence.str.strip().str.len()"
   ]
  },
  {
   "cell_type": "markdown",
   "metadata": {},
   "source": [
    "计算不同氨基酸在sequence中含有的个数，符号和氨基酸之间的对应见[维基百科蛋白质一级结构](https://zh.wikipedia.org/wiki/%E8%9B%8B%E7%99%BD%E8%B3%AA%E4%B8%80%E7%B4%9A%E7%B5%90%E6%A7%8B)"
   ]
  },
  {
   "cell_type": "code",
   "execution_count": 31,
   "metadata": {
    "collapsed": true
   },
   "outputs": [],
   "source": [
    "sequence_list = ['sequence_{}'.format(i) for i in amino_acid]"
   ]
  },
  {
   "cell_type": "code",
   "execution_count": 33,
   "metadata": {},
   "outputs": [],
   "source": [
    "for i in amino_acid:\n",
    "    df_ki_train['sequence_{}'.format(i)] = df_ki_train.Sequence.str.count(i)"
   ]
  },
  {
   "cell_type": "markdown",
   "metadata": {},
   "source": [
    "Ki值在5.0，10.0左右发生迅速变化，为什么？\n",
    "1、蛋白质的性质、小分子有关\n",
    "2、碰巧出现的：刚好在做试验的时候，随机选出来的物质中他们ki值落在5~10中的蛋白质、分子多而已"
   ]
  },
  {
   "cell_type": "markdown",
   "metadata": {},
   "source": [
    "情况|数量|说明\n",
    "---|---|---\n",
    "数据行数|165084|\n",
    "finger_print的类别|76507| <165084,说明存在Molecule_ID不同但是分子指纹相同的情况\n",
    "finger_print中有1的个数的种类|102|"
   ]
  },
  {
   "cell_type": "code",
   "execution_count": null,
   "metadata": {
    "collapsed": true
   },
   "outputs": [],
   "source": [
    "df_ki_train['sequence_length'] = df_ki_train.Sequence.str.strip().str.len()"
   ]
  },
  {
   "cell_type": "code",
   "execution_count": 34,
   "metadata": {
    "collapsed": true
   },
   "outputs": [],
   "source": [
    "df_ki_train.to_csv('E:\\MySQL_data\\datas_molecule\\\\df_ki_train.csv',\n",
    "                    index = False,\n",
    "                    encoding = 'utf-8',\n",
    "                    header = True )"
   ]
  },
  {
   "cell_type": "markdown",
   "metadata": {
    "heading_collapsed": true
   },
   "source": [
    "## 探索"
   ]
  },
  {
   "cell_type": "code",
   "execution_count": null,
   "metadata": {
    "hidden": true,
    "scrolled": true
   },
   "outputs": [],
   "source": [
    "df_ki_train.sort_values(by = 'Ki',axis = 0,ascending = True)"
   ]
  },
  {
   "cell_type": "markdown",
   "metadata": {
    "heading_collapsed": true,
    "hidden": true
   },
   "source": [
    "### Ki整体分布情况"
   ]
  },
  {
   "cell_type": "code",
   "execution_count": 36,
   "metadata": {
    "hidden": true
   },
   "outputs": [
    {
     "data": {
      "text/plain": [
       "[<matplotlib.lines.Line2D at 0x29e01d0cfd0>]"
      ]
     },
     "execution_count": 36,
     "metadata": {},
     "output_type": "execute_result"
    },
    {
     "data": {
      "image/png": "[encoded data removed]",
      "text/plain": [
       "<matplotlib.figure.Figure at 0x29e01fef9e8>"
      ]
     },
     "metadata": {},
     "output_type": "display_data"
    }
   ],
   "source": [
    "plt.figure(figsize = (12,10))\n",
    "sns.set_style('darkgrid')\n",
    "plt.rcParams['font.family'] = ['SimHei']\n",
    "\n",
    "square_bottom = 5.1\n",
    "square_top = 10.9\n",
    "square_left = 6000\n",
    "square_right = 164000\n",
    "df_ki_train_ki_length = len(df_ki_train.Ki)\n",
    "\n",
    "ax0 = plt.subplot2grid((2,4),(0,0),colspan = 4)\n",
    "ax0.plot(list(range(df_ki_train_ki_length)),df_ki_train.sort_values(by = 'Ki',ascending = True).Ki)    \n",
    "\n",
    "ax0.vlines(x = square_left,ymin = square_bottom,ymax = square_top,\n",
    "           colors = 'green',linestyle='-')\n",
    "ax0.hlines(y = square_bottom,xmin = square_left,xmax = square_right,\n",
    "           colors = 'green',linestyle = '-')\n",
    "ax0.hlines( y=square_top,xmin = square_left,xmax = square_right,\n",
    "           colors = 'green',linestyle = '-')\n",
    "ax0.vlines(x = square_right,ymin = square_bottom,ymax = square_top,\n",
    "           colors = 'green',linestyle = '-')  \n",
    "\n",
    "ax0.text(5900,square_bottom,'{}'.format(square_bottom), \n",
    "         horizontalalignment='right',verticalalignment='bottom')\n",
    "ax0.text(163000,square_top,'{}'.format(square_top), \n",
    "         horizontalalignment='right',verticalalignment='bottom')\n",
    "\n",
    "num1 = df_ki_train.loc[(df_ki_train.Ki <= square_top) & (df_ki_train.Ki >= square_bottom),'Ki'].count()\n",
    "num2 = num1 / df_ki_train.Ki.count() \n",
    "ax0.text(87500,11.2,'{0:,d}个样本，占比{1:.2%}'.format(num1,num2),\n",
    "        horizontalalignment='center',verticalalignment='bottom',\n",
    "        fontsize = 15 )\n",
    "ax0.set_ylabel('Ki')\n",
    "\n",
    "ax1 = plt.subplot2grid((2,4),(1,0))\n",
    "df1 = df_ki_train.loc[df_ki_train.Ki < square_bottom,:].sort_values(by = 'Ki',ascending = True)\n",
    "ax1.plot(list(range(len(df1))),df1.Ki)\n",
    "\n",
    "\n",
    "ax2 = plt.subplot2grid((2,4),(1,1),colspan = 2)\n",
    "df2 = df_ki_train.loc[(df_ki_train.Ki <= square_top) & (df_ki_train.Ki >= square_bottom),:].sort_values(by = 'Ki',ascending = True) \n",
    "ax2.plot(list(range(len(df1),len(df1)+len(df2))),df2.Ki)\n",
    "\n",
    "ax3 = plt.subplot2grid((2,4),(1,3))\n",
    "df3 = df_ki_train.loc[df_ki_train.Ki > square_top,:].sort_values(by = 'Ki',ascending = True)\n",
    "ax3.plot( list(range(len(df2)+len(df1),df_ki_train_ki_length )), df3.Ki )"
   ]
  },
  {
   "cell_type": "markdown",
   "metadata": {
    "hidden": true
   },
   "source": [
    "想到了指数级增长：在任何一点往前看，都是平的，往后看都是垂直的。"
   ]
  },
  {
   "cell_type": "code",
   "execution_count": 37,
   "metadata": {
    "collapsed": true,
    "hidden": true
   },
   "outputs": [],
   "source": [
    "df_ki_train['rank_ki'] = np.nan\n",
    "df_ki_train.loc[df_ki_train.Ki < square_bottom,'rank_ki'] = 1\n",
    "df_ki_train.loc[(df_ki_train.Ki >= square_bottom) & (df_ki_train.Ki <= square_top),'rank_ki'] = 2   \n",
    "df_ki_train.loc[df_ki_train.Ki > square_top,'rank_ki'] = 3"
   ]
  },
  {
   "cell_type": "code",
   "execution_count": 39,
   "metadata": {
    "hidden": true
   },
   "outputs": [
    {
     "data": {
      "text/plain": [
       "<matplotlib.axes._subplots.AxesSubplot at 0x29e0c57bf98>"
      ]
     },
     "execution_count": 39,
     "metadata": {},
     "output_type": "execute_result"
    },
    {
     "data": {
      "image/png": "[encoded data removed]",
      "text/plain": [
       "<matplotlib.figure.Figure at 0x29e020282e8>"
      ]
     },
     "metadata": {},
     "output_type": "display_data"
    }
   ],
   "source": [
    "plt.figure(figsize = (12,4))\n",
    "sns.distplot(a = df_ki_train.sequence_length,\n",
    "             kde = True )"
   ]
  },
  {
   "cell_type": "markdown",
   "metadata": {
    "hidden": true
   },
   "source": [
    "从上图可以得出，大多数蛋白质含有的氨基酸的个数<=1300个，极少量的蛋白质含有的氨基超过1300"
   ]
  },
  {
   "cell_type": "code",
   "execution_count": null,
   "metadata": {
    "hidden": true
   },
   "outputs": [],
   "source": [
    "plt.figure(figsize = (5,8))\n",
    "plt.rcParams['font.family'] = ['SimHei']\n",
    "\n",
    "sns.violinplot(x = 'rank_ki',y = 'sequence_length',\n",
    "            data = df_ki_train.loc[df_ki_train.sequence_length <=1700])"
   ]
  },
  {
   "cell_type": "markdown",
   "metadata": {
    "hidden": true
   },
   "source": [
    "蛋白质中氨基酸的个数与ki值关系不明显"
   ]
  },
  {
   "cell_type": "markdown",
   "metadata": {
    "heading_collapsed": true,
    "hidden": true
   },
   "source": [
    "### 三种cyp酶与ki值之间的关系"
   ]
  },
  {
   "cell_type": "code",
   "execution_count": null,
   "metadata": {
    "hidden": true
   },
   "outputs": [],
   "source": [
    "len(df_ki_train[['cyp_2c9','cyp_3a4']])"
   ]
  },
  {
   "cell_type": "code",
   "execution_count": null,
   "metadata": {
    "collapsed": true,
    "hidden": true
   },
   "outputs": [],
   "source": [
    "sns.set_style('darkgrid')\n",
    "plt.figure(figsize = (9,5))\n",
    "sns.distplot(a = df_ki_train.groupby(by = 'sequence_length',as_index = False).count().sequence_length   \n",
    "           ,kde = True)"
   ]
  },
  {
   "cell_type": "code",
   "execution_count": null,
   "metadata": {
    "hidden": true
   },
   "outputs": [],
   "source": [
    "df_ki_train[['cyp_2c9','cyp_2d6']].dropna().cyp_2c9.corr(df_ki_train[['cyp_2c9','cyp_2d6']].dropna().cyp_2d6)"
   ]
  },
  {
   "cell_type": "markdown",
   "metadata": {
    "hidden": true
   },
   "source": [
    "cyp_2c9和cyp_2d6呈现出一定的负相关，相关性很弱。"
   ]
  },
  {
   "cell_type": "code",
   "execution_count": null,
   "metadata": {
    "hidden": true
   },
   "outputs": [],
   "source": [
    "sns.set_style('darkgrid')\n",
    "f,ax1 = plt.subplots(1, 1, sharex=True, figsize=(8, 6))  \n",
    "cyp_2c9 = df_ki_train[['cyp_2c9','cyp_2d6','cyp_3a4']].dropna()['cyp_2d6']\n",
    "cyp_2c6 = df_ki_train[['cyp_2c9','cyp_2d6','cyp_3a4']].dropna()['cyp_2c9']\n",
    "cyp_3a4 = df_ki_train[['cyp_2c9','cyp_2d6','cyp_3a4']].dropna()['cyp_3a4']\n",
    "\n",
    "sns.kdeplot(cyp_2c9,ax = ax1)\n",
    "sns.kdeplot(cyp_2c6,ax = ax1)\n",
    "sns.kdeplot(cyp_3a4,ax = ax1,linestyle = '-.')\n",
    "\n",
    "ax1.legend(loc='upper left')"
   ]
  },
  {
   "cell_type": "markdown",
   "metadata": {
    "hidden": true
   },
   "source": [
    "3种cyp酶的频率分布有明显差异，但是他们和ki值的关系是？先尝试一下线性回归"
   ]
  },
  {
   "cell_type": "code",
   "execution_count": null,
   "metadata": {
    "hidden": true
   },
   "outputs": [],
   "source": [
    "sns.set_style('darkgrid')\n",
    "ax1 = plt.subplot2grid((2,1),(1,0))\n",
    "# subplot2grid(shape,loc,) 返回loc位置的ax\n",
    "# 还有其它2种方法：subplot(nrows, ncols, index, **kwargs) 返回index位置的ax  \n",
    "# subplots(nrows,ncols,**kwargs) 返回figure，所有的ax\n",
    "\n",
    "sns.regplot(x = 'cyp_2c9',y='Ki',\n",
    "            data = df_ki_train[['cyp_2c9','cyp_2d6','cyp_3a4','Ki']].dropna(),\n",
    "            scatter = False,\n",
    "            order = 1, # 如果比1大的话，就用np.polyfit，最小二乘法进行拟合\n",
    "            ci=None, # 不现实置信区间\n",
    "            truncate=True,color = 'blue',\n",
    "            ax = ax1)\n",
    "\n",
    "sns.regplot( x = 'cyp_2d6',y='Ki',\n",
    "            data = df_ki_train[['cyp_2c9','cyp_2d6','cyp_3a4','Ki']].dropna(),\n",
    "            scatter = False,color = 'yellow',order = 1,\n",
    "            ci=None, truncate=True,ax = ax1)\n",
    "\n",
    "sns.regplot(x = 'cyp_3a4',y='Ki',\n",
    "           data = df_ki_train[['cyp_2c9','cyp_2d6','cyp_3a4','Ki']].dropna(),\n",
    "           scatter = False,color = 'green',order = 1,\n",
    "           ci=None, truncate=True,ax = ax1)\n",
    "\n",
    "ax1.legend(['cyp_2c9','cyp_2d6','cyp_3a4'],loc = 'lower left')"
   ]
  },
  {
   "cell_type": "markdown",
   "metadata": {
    "hidden": true
   },
   "source": [
    "有差异，但是不明显"
   ]
  },
  {
   "cell_type": "markdown",
   "metadata": {
    "heading_collapsed": true,
    "hidden": true
   },
   "source": [
    "### 毒性测试与Ki值之间的关系"
   ]
  },
  {
   "cell_type": "code",
   "execution_count": null,
   "metadata": {
    "hidden": true
   },
   "outputs": [],
   "source": [
    "sns.set_style('darkgrid')\n",
    "plt.rcParams['font.family'] = ['SimHei']\n",
    "f,ax1 = plt.subplots(1,1,figsize = (8,6))\n",
    "\n",
    "toxicity_list = ['ames_toxicity', 'fathead_minnow_toxicity', \n",
    "                 'tetrahymena_pyriformis_toxicity', 'honey_bee']\n",
    "color_list = ['blue','green','yellow','red']\n",
    "for toxicity ,color in zip(toxicity_list,color_list):\n",
    "    sns.regplot(x = toxicity,y = 'Ki',\n",
    "           data = df_ki_train[['ames_toxicity', 'fathead_minnow_toxicity', \n",
    "                               'tetrahymena_pyriformis_toxicity', \n",
    "                               'honey_bee','Ki']].dropna(),\n",
    "           ci = None,ax = ax1,color = color,order = 2,\n",
    "               scatter = False)\n",
    "\n",
    "plt.title('毒性与Ki值关系')\n",
    "loc_list = [[0.4,7.7],[0.4,6.4],[0.4,6.75],[0.4,7.4]]\n",
    "for loc,toxicity in zip(loc_list,toxicity_list):\n",
    "    plt.text(loc[0],loc[1],s = toxicity)"
   ]
  },
  {
   "cell_type": "markdown",
   "metadata": {
    "hidden": true
   },
   "source": [
    "所以采用普通线性回归模型时，最好选择最小二乘法采用曲线进行拟合，sklearn中哪个方法是曲线拟合？怎么处理空值？"
   ]
  },
  {
   "cell_type": "markdown",
   "metadata": {},
   "source": [
    "## 建立模型"
   ]
  },
  {
   "cell_type": "code",
   "execution_count": 40,
   "metadata": {
    "collapsed": true
   },
   "outputs": [],
   "source": [
    "features = ['cyp_2c9', 'cell_permeability', 'renal_organic_cation_transporter', \n",
    "            'solubility','sequence_length','sequence_mw'] + \\\n",
    "            list(feat.columns) +  sequence_list\n",
    "x = df_ki_train[features]\n",
    "y_true = df_ki_train['Ki']\n",
    "from sklearn.model_selection import cross_val_score"
   ]
  },
  {
   "cell_type": "code",
   "execution_count": 43,
   "metadata": {
    "collapsed": true
   },
   "outputs": [
    {
     "ename": "TypeError",
     "evalue": "estimator should be an estimator implementing 'fit' method,          cyp_2c9  cell_permeability  renal_organic_cation_transporter  \\\n0       0.742983           4.919215                          0.479723   \n1       0.854373           4.723896                          0.492733   \n2       0.854373           4.723896                          0.492733   \n3       0.853763           4.731113                          0.403998   \n4       0.853763           4.731113                          0.403998   \n5       0.855956           4.470623                          0.699078   \n6       0.855956           4.470623                          0.699078   \n7       0.844784           4.723733                          0.438007   \n8       0.844784           4.723733                          0.438007   \n9       0.818163           4.611797                          0.463260   \n10      0.818163           4.611797                          0.463260   \n11      0.767587           4.580892                          0.419876   \n12      0.827739           4.764075                          0.464787   \n13      0.847625           4.827510                          0.289210   \n14      0.745367           4.637589                          0.451774   \n15      0.861112           4.780582                          0.511412   \n16      0.819527           4.648481                          0.517405   \n17      0.819527           4.648481                          0.517405   \n18      0.868581           4.834335                          0.509358   \n19      0.845722           4.786421                          0.479273   \n20      0.779745           4.295628                          0.676031   \n21      0.855956           4.470623                          0.699078   \n22      0.838232           5.098116                          0.467400   \n23      0.831821           4.803872                          0.458771   \n24      0.814128           4.764205                          0.166004   \n25      0.746755           4.605282                          0.469563   \n26      0.881316           6.318346                          0.945403   \n27      0.881316           6.318346                          0.945403   \n28      0.872609           6.036971                          0.866408   \n29      0.872609           6.036971                          0.866408   \n...          ...                ...                               ...   \n165054  0.518988           4.835622                          0.945636   \n165055  0.518988           4.835622                          0.945636   \n165056  0.526526           4.935046                          0.946010   \n165057  0.526526           4.935046                          0.946010   \n165058  0.755758           4.478928                          0.346707   \n165059  0.755758           4.478928                          0.346707   \n165060  0.736800           4.942215                          0.671875   \n165061  0.736800           4.942215                          0.671875   \n165062  0.741580           5.061981                          0.646859   \n165063  0.741580           5.061981                          0.646859   \n165064  0.818583           5.070583                          0.883357   \n165065  0.818583           5.070583                          0.883357   \n165066  0.666637           4.567254                          0.194281   \n165067  0.666637           4.567254                          0.194281   \n165068  0.661578           5.093137                          0.478355   \n165069  0.661578           5.093137                          0.478355   \n165070  0.666252           5.168532                          0.461707   \n165071  0.666252           5.168532                          0.461707   \n165072  0.566653           4.462368                          0.618447   \n165073  0.566653           4.462368                          0.618447   \n165074  0.536301           4.984632                          0.951703   \n165075  0.536301           4.984632                          0.951703   \n165076  0.727120           5.611473                          0.895558   \n165077  0.776518           5.764202                          0.947161   \n165078  0.733173           5.679347                          0.892771   \n165079  0.740658           5.730108                          0.889316   \n165080  0.774062           5.697332                          0.949101   \n165081  0.760144           5.428389                          0.929463   \n165082  0.766344           5.476897                          0.925813   \n165083  0.766344           5.476897                          0.925813   \n\n        solubility  sequence_length  sequence_mw  Fingerprint_0  \\\n0        -5.401525              407   46232.8984              1   \n1        -5.089023              223   25109.6784              1   \n2        -5.089023              444   50885.9094              1   \n3        -5.124717              223   25109.6784              1   \n4        -5.124717              444   50885.9094              1   \n5        -4.973178              223   25109.6784              1   \n6        -4.973178              444   50885.9094              1   \n7        -4.886913              223   25109.6784              1   \n8        -4.886913              444   50885.9094              1   \n9        -5.718917              223   25109.6784              0   \n10       -5.718917              444   50885.9094              0   \n11       -4.883039              223   25109.6784              0   \n12       -3.787272              223   25109.6784              1   \n13       -5.306387              223   25109.6784              1   \n14       -4.575261              223   25109.6784              0   \n15       -5.430107              223   25109.6784              1   \n16       -4.188601              223   25109.6784              1   \n17       -4.188601              444   50885.9094              1   \n18       -5.708846              223   25109.6784              1   \n19       -4.979594              223   25109.6784              1   \n20       -5.162942              223   25109.6784              0   \n21       -4.973178              223   25109.6784              1   \n22       -4.313336              223   25109.6784              1   \n23       -4.336030              444   50885.9094              1   \n24       -5.225652              223   25109.6784              1   \n25       -4.556644              223   25109.6784              0   \n26       -5.197682              398   44475.9700              1   \n27       -5.197682              372   40431.8374              1   \n28       -5.010872              398   44475.9700              0   \n29       -5.010872              372   40431.8374              0   \n...            ...              ...          ...            ...   \n165054   -4.523631              578   66913.6068              1   \n165055   -4.523631              564   64853.0246              1   \n165056   -4.676851              578   66913.6068              1   \n165057   -4.676851              564   64853.0246              1   \n165058   -5.307969              578   66913.6068              1   \n165059   -5.307969              564   64853.0246              1   \n165060   -3.871432              578   66913.6068              1   \n165061   -3.871432              564   64853.0246              1   \n165062   -4.086120              578   66913.6068              1   \n165063   -4.086120              564   64853.0246              1   \n165064   -3.436380              578   66913.6068              1   \n165065   -3.436380              564   64853.0246              1   \n165066   -6.206190              578   66913.6068              1   \n165067   -6.206190              564   64853.0246              1   \n165068   -4.625150              578   66913.6068              1   \n165069   -4.625150              564   64853.0246              1   \n165070   -4.893682              578   66913.6068              1   \n165071   -4.893682              564   64853.0246              1   \n165072   -6.985426              578   66913.6068              1   \n165073   -6.985426              564   64853.0246              1   \n165074   -5.299480              578   66913.6068              1   \n165075   -5.299480              564   64853.0246              1   \n165076   -5.730260              157   17514.1569              1   \n165077   -6.116933              157   17514.1569              1   \n165078   -5.945749              157   17514.1569              1   \n165079   -6.102824              157   17514.1569              1   \n165080   -5.678681              157   17514.1569              1   \n165081   -5.773038              157   17514.1569              1   \n165082   -6.014130              157   17514.1569              1   \n165083   -6.014130              157   17514.1569              1   \n\n        Fingerprint_1  Fingerprint_2  Fingerprint_3  Fingerprint_4  \\\n0                   0              0              1              0   \n1                   1              0              1              0   \n2                   1              0              1              0   \n3                   1              0              1              0   \n4                   1              0              1              0   \n5                   1              0              1              0   \n6                   1              0              1              0   \n7                   1              0              1              0   \n8                   1              0              1              0   \n9                   1              0              1              0   \n10                  1              0              1              0   \n11                  1              1              1              0   \n12                  1              0              1              0   \n13                  0              0              1              0   \n14                  1              1              1              0   \n15                  0              0              1              0   \n16                  1              0              1              0   \n17                  1              0              1              0   \n18                  1              0              1              0   \n19                  1              0              1              0   \n20                  1              1              1              0   \n21                  1              0              1              0   \n22                  0              0              1              0   \n23                  1              0              1              0   \n24                  1              0              1              0   \n25                  1              0              1              0   \n26                  1              1              1              0   \n27                  1              1              1              0   \n28                  1              1              1              0   \n29                  1              1              1              0   \n...               ...            ...            ...            ...   \n165054              0              0              1              0   \n165055              0              0              1              0   \n165056              0              0              1              0   \n165057              0              0              1              0   \n165058              0              1              1              0   \n165059              0              1              1              0   \n165060              0              0              1              0   \n165061              0              0              1              0   \n165062              0              0              1              0   \n165063              0              0              1              0   \n165064              0              0              1              0   \n165065              0              0              1              0   \n165066              0              1              1              0   \n165067              0              1              1              0   \n165068              0              0              1              0   \n165069              0              0              1              0   \n165070              0              0              1              0   \n165071              0              0              1              0   \n165072              0              1              1              0   \n165073              0              1              1              0   \n165074              0              0              1              0   \n165075              0              0              1              0   \n165076              0              0              1              0   \n165077              0              0              1              0   \n165078              0              0              1              0   \n165079              0              0              1              0   \n165080              0              0              1              0   \n165081              0              0              1              0   \n165082              0              0              1              0   \n165083              0              0              1              0   \n\n        Fingerprint_5     ...      sequence_K  sequence_L  sequence_M  \\\n0                   1     ...              15          33          15   \n1                   1     ...               1          29           4   \n2                   1     ...              24          43          18   \n3                   1     ...               1          29           4   \n4                   1     ...              24          43          18   \n5                   1     ...               1          29           4   \n6                   1     ...              24          43          18   \n7                   1     ...               1          29           4   \n8                   1     ...              24          43          18   \n9                   1     ...               1          29           4   \n10                  1     ...              24          43          18   \n11                  1     ...               1          29           4   \n12                  1     ...               1          29           4   \n13                  1     ...               1          29           4   \n14                  1     ...               1          29           4   \n15                  1     ...               1          29           4   \n16                  1     ...               1          29           4   \n17                  1     ...              24          43          18   \n18                  1     ...               1          29           4   \n19                  1     ...               1          29           4   \n20                  1     ...               1          29           4   \n21                  1     ...               1          29           4   \n22                  1     ...               1          29           4   \n23                  1     ...              24          43          18   \n24                  1     ...               1          29           4   \n25                  1     ...               1          29           4   \n26                  1     ...              12          37          14   \n27                  1     ...              11          43          10   \n28                  1     ...              12          37          14   \n29                  1     ...              11          43          10   \n...               ...     ...             ...         ...         ...   \n165054              0     ...              26          72          13   \n165055              0     ...              29          57          11   \n165056              0     ...              26          72          13   \n165057              0     ...              29          57          11   \n165058              1     ...              26          72          13   \n165059              1     ...              29          57          11   \n165060              1     ...              26          72          13   \n165061              1     ...              29          57          11   \n165062              1     ...              26          72          13   \n165063              1     ...              29          57          11   \n165064              0     ...              26          72          13   \n165065              0     ...              29          57          11   \n165066              1     ...              26          72          13   \n165067              1     ...              29          57          11   \n165068              1     ...              26          72          13   \n165069              1     ...              29          57          11   \n165070              1     ...              26          72          13   \n165071              1     ...              29          57          11   \n165072              0     ...              26          72          13   \n165073              0     ...              29          57          11   \n165074              0     ...              26          72          13   \n165075              0     ...              29          57          11   \n165076              0     ...              12          13           4   \n165077              0     ...              12          13           4   \n165078              0     ...              12          13           4   \n165079              0     ...              12          13           4   \n165080              0     ...              12          13           4   \n165081              0     ...              12          13           4   \n165082              0     ...              12          13           4   \n165083              0     ...              12          13           4   \n\n        sequence_N  sequence_P  sequence_Q  sequence_R  sequence_S  \\\n0               17          21          10          13          34   \n1                2           7          10          14          12   \n2               26          27           9          28          32   \n3                2           7          10          14          12   \n4               26          27           9          28          32   \n5                2           7          10          14          12   \n6               26          27           9          28          32   \n7                2           7          10          14          12   \n8               26          27           9          28          32   \n9                2           7          10          14          12   \n10              26          27           9          28          32   \n11               2           7          10          14          12   \n12               2           7          10          14          12   \n13               2           7          10          14          12   \n14               2           7          10          14          12   \n15               2           7          10          14          12   \n16               2           7          10          14          12   \n17              26          27           9          28          32   \n18               2           7          10          14          12   \n19               2           7          10          14          12   \n20               2           7          10          14          12   \n21               2           7          10          14          12   \n22               2           7          10          14          12   \n23              26          27           9          28          32   \n24               2           7          10          14          12   \n25               2           7          10          14          12   \n26              23          21          10          18          31   \n27              11          22           7          23          28   \n28              23          21          10          18          31   \n29              11          22           7          23          28   \n...            ...         ...         ...         ...         ...   \n165054          31          31          17          33          46   \n165055          23          19          15          30          45   \n165056          31          31          17          33          46   \n165057          23          19          15          30          45   \n165058          31          31          17          33          46   \n165059          23          19          15          30          45   \n165060          31          31          17          33          46   \n165061          23          19          15          30          45   \n165062          31          31          17          33          46   \n165063          23          19          15          30          45   \n165064          31          31          17          33          46   \n165065          23          19          15          30          45   \n165066          31          31          17          33          46   \n165067          23          19          15          30          45   \n165068          31          31          17          33          46   \n165069          23          19          15          30          45   \n165070          31          31          17          33          46   \n165071          23          19          15          30          45   \n165072          31          31          17          33          46   \n165073          23          19          15          30          45   \n165074          31          31          17          33          46   \n165075          23          19          15          30          45   \n165076          11           6           5           2          17   \n165077          11           6           5           2          17   \n165078          11           6           5           2          17   \n165079          11           6           5           2          17   \n165080          11           6           5           2          17   \n165081          11           6           5           2          17   \n165082          11           6           5           2          17   \n165083          11           6           5           2          17   \n\n        sequence_T  sequence_V  sequence_W  sequence_Y  \n0               28          43           9          24  \n1               17          18          11           8  \n2               29          35           7          17  \n3               17          18          11           8  \n4               29          35           7          17  \n5               17          18          11           8  \n6               29          35           7          17  \n7               17          18          11           8  \n8               29          35           7          17  \n9               17          18          11           8  \n10              29          35           7          17  \n11              17          18          11           8  \n12              17          18          11           8  \n13              17          18          11           8  \n14              17          18          11           8  \n15              17          18          11           8  \n16              17          18          11           8  \n17              29          35           7          17  \n18              17          18          11           8  \n19              17          18          11           8  \n20              17          18          11           8  \n21              17          18          11           8  \n22              17          18          11           8  \n23              29          35           7          17  \n24              17          18          11           8  \n25              17          18          11           8  \n26              38          31           7          14  \n27              22          37           6          11  \n28              38          31           7          14  \n29              22          37           6          11  \n...            ...         ...         ...         ...  \n165054          32          34          13          27  \n165055          34          36          15          21  \n165056          32          34          13          27  \n165057          34          36          15          21  \n165058          32          34          13          27  \n165059          34          36          15          21  \n165060          32          34          13          27  \n165061          34          36          15          21  \n165062          32          34          13          27  \n165063          34          36          15          21  \n165064          32          34          13          27  \n165065          34          36          15          21  \n165066          32          34          13          27  \n165067          34          36          15          21  \n165068          32          34          13          27  \n165069          34          36          15          21  \n165070          32          34          13          27  \n165071          34          36          15          21  \n165072          32          34          13          27  \n165073          34          36          15          21  \n165074          32          34          13          27  \n165075          34          36          15          21  \n165076           5          16           3           6  \n165077           5          16           3           6  \n165078           5          16           3           6  \n165079           5          16           3           6  \n165080           5          16           3           6  \n165081           5          16           3           6  \n165082           5          16           3           6  \n165083           5          16           3           6  \n\n[165084 rows x 194 columns] was passed",
     "output_type": "error",
     "traceback": [
      "\u001b[1;31m---------------------------------------------------------------------------\u001b[0m",
      "\u001b[1;31mTypeError\u001b[0m                                 Traceback (most recent call last)",
      "\u001b[1;32m<ipython-input-43-45d9dceb69b0>\u001b[0m in \u001b[0;36m<module>\u001b[1;34m()\u001b[0m\n\u001b[0;32m      1\u001b[0m \u001b[1;32mfrom\u001b[0m \u001b[0msklearn\u001b[0m\u001b[1;33m.\u001b[0m\u001b[0misotonic\u001b[0m \u001b[1;32mimport\u001b[0m \u001b[0mIsotonicRegression\u001b[0m\u001b[1;33m\u001b[0m\u001b[0m\n\u001b[0;32m      2\u001b[0m \u001b[0mir\u001b[0m \u001b[1;33m=\u001b[0m \u001b[0mIsotonicRegression\u001b[0m\u001b[1;33m(\u001b[0m\u001b[1;33m)\u001b[0m\u001b[1;33m\u001b[0m\u001b[0m\n\u001b[1;32m----> 3\u001b[1;33m \u001b[0mir_score\u001b[0m \u001b[1;33m=\u001b[0m \u001b[0mcross_val_score\u001b[0m\u001b[1;33m(\u001b[0m\u001b[0mx\u001b[0m\u001b[1;33m,\u001b[0m\u001b[0my_true\u001b[0m\u001b[1;33m,\u001b[0m\u001b[0mcv\u001b[0m \u001b[1;33m=\u001b[0m \u001b[1;36m5\u001b[0m\u001b[1;33m,\u001b[0m\u001b[0mscoring\u001b[0m \u001b[1;33m=\u001b[0m \u001b[1;34m'neg_mean_squared_erro'\u001b[0m\u001b[1;33m)\u001b[0m\u001b[1;33m.\u001b[0m\u001b[0mmean\u001b[0m\u001b[1;33m(\u001b[0m\u001b[1;33m)\u001b[0m\u001b[1;33m\u001b[0m\u001b[0m\n\u001b[0m\u001b[0;32m      4\u001b[0m \u001b[0mir_score\u001b[0m\u001b[1;33m\u001b[0m\u001b[0m\n",
      "\u001b[1;32mE:\\miniconda\\envs\\course_py35\\lib\\site-packages\\sklearn\\model_selection\\_validation.py\u001b[0m in \u001b[0;36mcross_val_score\u001b[1;34m(estimator, X, y, groups, scoring, cv, n_jobs, verbose, fit_params, pre_dispatch)\u001b[0m\n\u001b[0;32m    312\u001b[0m     \"\"\"\n\u001b[0;32m    313\u001b[0m     \u001b[1;31m# To ensure multimetric format is not supported\u001b[0m\u001b[1;33m\u001b[0m\u001b[1;33m\u001b[0m\u001b[0m\n\u001b[1;32m--> 314\u001b[1;33m     \u001b[0mscorer\u001b[0m \u001b[1;33m=\u001b[0m \u001b[0mcheck_scoring\u001b[0m\u001b[1;33m(\u001b[0m\u001b[0mestimator\u001b[0m\u001b[1;33m,\u001b[0m \u001b[0mscoring\u001b[0m\u001b[1;33m=\u001b[0m\u001b[0mscoring\u001b[0m\u001b[1;33m)\u001b[0m\u001b[1;33m\u001b[0m\u001b[0m\n\u001b[0m\u001b[0;32m    315\u001b[0m \u001b[1;33m\u001b[0m\u001b[0m\n\u001b[0;32m    316\u001b[0m     cv_results = cross_validate(estimator=estimator, X=X, y=y, groups=groups,\n",
      "\u001b[1;32mE:\\miniconda\\envs\\course_py35\\lib\\site-packages\\sklearn\\metrics\\scorer.py\u001b[0m in \u001b[0;36mcheck_scoring\u001b[1;34m(estimator, scoring, allow_none)\u001b[0m\n\u001b[0;32m    272\u001b[0m     \u001b[1;32mif\u001b[0m \u001b[1;32mnot\u001b[0m \u001b[0mhasattr\u001b[0m\u001b[1;33m(\u001b[0m\u001b[0mestimator\u001b[0m\u001b[1;33m,\u001b[0m \u001b[1;34m'fit'\u001b[0m\u001b[1;33m)\u001b[0m\u001b[1;33m:\u001b[0m\u001b[1;33m\u001b[0m\u001b[0m\n\u001b[0;32m    273\u001b[0m         raise TypeError(\"estimator should be an estimator implementing \"\n\u001b[1;32m--> 274\u001b[1;33m                         \"'fit' method, %r was passed\" % estimator)\n\u001b[0m\u001b[0;32m    275\u001b[0m     \u001b[1;32mif\u001b[0m \u001b[0misinstance\u001b[0m\u001b[1;33m(\u001b[0m\u001b[0mscoring\u001b[0m\u001b[1;33m,\u001b[0m \u001b[0msix\u001b[0m\u001b[1;33m.\u001b[0m\u001b[0mstring_types\u001b[0m\u001b[1;33m)\u001b[0m\u001b[1;33m:\u001b[0m\u001b[1;33m\u001b[0m\u001b[0m\n\u001b[0;32m    276\u001b[0m         \u001b[1;32mreturn\u001b[0m \u001b[0mget_scorer\u001b[0m\u001b[1;33m(\u001b[0m\u001b[0mscoring\u001b[0m\u001b[1;33m)\u001b[0m\u001b[1;33m\u001b[0m\u001b[0m\n",
      "\u001b[1;31mTypeError\u001b[0m: estimator should be an estimator implementing 'fit' method,          cyp_2c9  cell_permeability  renal_organic_cation_transporter  \\\n0       0.742983           4.919215                          0.479723   \n1       0.854373           4.723896                          0.492733   \n2       0.854373           4.723896                          0.492733   \n3       0.853763           4.731113                          0.403998   \n4       0.853763           4.731113                          0.403998   \n5       0.855956           4.470623                          0.699078   \n6       0.855956           4.470623                          0.699078   \n7       0.844784           4.723733                          0.438007   \n8       0.844784           4.723733                          0.438007   \n9       0.818163           4.611797                          0.463260   \n10      0.818163           4.611797                          0.463260   \n11      0.767587           4.580892                          0.419876   \n12      0.827739           4.764075                          0.464787   \n13      0.847625           4.827510                          0.289210   \n14      0.745367           4.637589                          0.451774   \n15      0.861112           4.780582                          0.511412   \n16      0.819527           4.648481                          0.517405   \n17      0.819527           4.648481                          0.517405   \n18      0.868581           4.834335                          0.509358   \n19      0.845722           4.786421                          0.479273   \n20      0.779745           4.295628                          0.676031   \n21      0.855956           4.470623                          0.699078   \n22      0.838232           5.098116                          0.467400   \n23      0.831821           4.803872                          0.458771   \n24      0.814128           4.764205                          0.166004   \n25      0.746755           4.605282                          0.469563   \n26      0.881316           6.318346                          0.945403   \n27      0.881316           6.318346                          0.945403   \n28      0.872609           6.036971                          0.866408   \n29      0.872609           6.036971                          0.866408   \n...          ...                ...                               ...   \n165054  0.518988           4.835622                          0.945636   \n165055  0.518988           4.835622                          0.945636   \n165056  0.526526           4.935046                          0.946010   \n165057  0.526526           4.935046                          0.946010   \n165058  0.755758           4.478928                          0.346707   \n165059  0.755758           4.478928                          0.346707   \n165060  0.736800           4.942215                          0.671875   \n165061  0.736800           4.942215                          0.671875   \n165062  0.741580           5.061981                          0.646859   \n165063  0.741580           5.061981                          0.646859   \n165064  0.818583           5.070583                          0.883357   \n165065  0.818583           5.070583                          0.883357   \n165066  0.666637           4.567254                          0.194281   \n165067  0.666637           4.567254                          0.194281   \n165068  0.661578           5.093137                          0.478355   \n165069  0.661578           5.093137                          0.478355   \n165070  0.666252           5.168532                          0.461707   \n165071  0.666252           5.168532                          0.461707   \n165072  0.566653           4.462368                          0.618447   \n165073  0.566653           4.462368                          0.618447   \n165074  0.536301           4.984632                          0.951703   \n165075  0.536301           4.984632                          0.951703   \n165076  0.727120           5.611473                          0.895558   \n165077  0.776518           5.764202                          0.947161   \n165078  0.733173           5.679347                          0.892771   \n165079  0.740658           5.730108                          0.889316   \n165080  0.774062           5.697332                          0.949101   \n165081  0.760144           5.428389                          0.929463   \n165082  0.766344           5.476897                          0.925813   \n165083  0.766344           5.476897                          0.925813   \n\n        solubility  sequence_length  sequence_mw  Fingerprint_0  \\\n0        -5.401525              407   46232.8984              1   \n1        -5.089023              223   25109.6784              1   \n2        -5.089023              444   50885.9094              1   \n3        -5.124717              223   25109.6784              1   \n4        -5.124717              444   50885.9094              1   \n5        -4.973178              223   25109.6784              1   \n6        -4.973178              444   50885.9094              1   \n7        -4.886913              223   25109.6784              1   \n8        -4.886913              444   50885.9094              1   \n9        -5.718917              223   25109.6784              0   \n10       -5.718917              444   50885.9094              0   \n11       -4.883039              223   25109.6784              0   \n12       -3.787272              223   25109.6784              1   \n13       -5.306387              223   25109.6784              1   \n14       -4.575261              223   25109.6784              0   \n15       -5.430107              223   25109.6784              1   \n16       -4.188601              223   25109.6784              1   \n17       -4.188601              444   50885.9094              1   \n18       -5.708846              223   25109.6784              1   \n19       -4.979594              223   25109.6784              1   \n20       -5.162942              223   25109.6784              0   \n21       -4.973178              223   25109.6784              1   \n22       -4.313336              223   25109.6784              1   \n23       -4.336030              444   50885.9094              1   \n24       -5.225652              223   25109.6784              1   \n25       -4.556644              223   25109.6784              0   \n26       -5.197682              398   44475.9700              1   \n27       -5.197682              372   40431.8374              1   \n28       -5.010872              398   44475.9700              0   \n29       -5.010872              372   40431.8374              0   \n...            ...              ...          ...            ...   \n165054   -4.523631              578   66913.6068              1   \n165055   -4.523631              564   64853.0246              1   \n165056   -4.676851              578   66913.6068              1   \n165057   -4.676851              564   64853.0246              1   \n165058   -5.307969              578   66913.6068              1   \n165059   -5.307969              564   64853.0246              1   \n165060   -3.871432              578   66913.6068              1   \n165061   -3.871432              564   64853.0246              1   \n165062   -4.086120              578   66913.6068              1   \n165063   -4.086120              564   64853.0246              1   \n165064   -3.436380              578   66913.6068              1   \n165065   -3.436380              564   64853.0246              1   \n165066   -6.206190              578   66913.6068              1   \n165067   -6.206190              564   64853.0246              1   \n165068   -4.625150              578   66913.6068              1   \n165069   -4.625150              564   64853.0246              1   \n165070   -4.893682              578   66913.6068              1   \n165071   -4.893682              564   64853.0246              1   \n165072   -6.985426              578   66913.6068              1   \n165073   -6.985426              564   64853.0246              1   \n165074   -5.299480              578   66913.6068              1   \n165075   -5.299480              564   64853.0246              1   \n165076   -5.730260              157   17514.1569              1   \n165077   -6.116933              157   17514.1569              1   \n165078   -5.945749              157   17514.1569              1   \n165079   -6.102824              157   17514.1569              1   \n165080   -5.678681              157   17514.1569              1   \n165081   -5.773038              157   17514.1569              1   \n165082   -6.014130              157   17514.1569              1   \n165083   -6.014130              157   17514.1569              1   \n\n        Fingerprint_1  Fingerprint_2  Fingerprint_3  Fingerprint_4  \\\n0                   0              0              1              0   \n1                   1              0              1              0   \n2                   1              0              1              0   \n3                   1              0              1              0   \n4                   1              0              1              0   \n5                   1              0              1              0   \n6                   1              0              1              0   \n7                   1              0              1              0   \n8                   1              0              1              0   \n9                   1              0              1              0   \n10                  1              0              1              0   \n11                  1              1              1              0   \n12                  1              0              1              0   \n13                  0              0              1              0   \n14                  1              1              1              0   \n15                  0              0              1              0   \n16                  1              0              1              0   \n17                  1              0              1              0   \n18                  1              0              1              0   \n19                  1              0              1              0   \n20                  1              1              1              0   \n21                  1              0              1              0   \n22                  0              0              1              0   \n23                  1              0              1              0   \n24                  1              0              1              0   \n25                  1              0              1              0   \n26                  1              1              1              0   \n27                  1              1              1              0   \n28                  1              1              1              0   \n29                  1              1              1              0   \n...               ...            ...            ...            ...   \n165054              0              0              1              0   \n165055              0              0              1              0   \n165056              0              0              1              0   \n165057              0              0              1              0   \n165058              0              1              1              0   \n165059              0              1              1              0   \n165060              0              0              1              0   \n165061              0              0              1              0   \n165062              0              0              1              0   \n165063              0              0              1              0   \n165064              0              0              1              0   \n165065              0              0              1              0   \n165066              0              1              1              0   \n165067              0              1              1              0   \n165068              0              0              1              0   \n165069              0              0              1              0   \n165070              0              0              1              0   \n165071              0              0              1              0   \n165072              0              1              1              0   \n165073              0              1              1              0   \n165074              0              0              1              0   \n165075              0              0              1              0   \n165076              0              0              1              0   \n165077              0              0              1              0   \n165078              0              0              1              0   \n165079              0              0              1              0   \n165080              0              0              1              0   \n165081              0              0              1              0   \n165082              0              0              1              0   \n165083              0              0              1              0   \n\n        Fingerprint_5     ...      sequence_K  sequence_L  sequence_M  \\\n0                   1     ...              15          33          15   \n1                   1     ...               1          29           4   \n2                   1     ...              24          43          18   \n3                   1     ...               1          29           4   \n4                   1     ...              24          43          18   \n5                   1     ...               1          29           4   \n6                   1     ...              24          43          18   \n7                   1     ...               1          29           4   \n8                   1     ...              24          43          18   \n9                   1     ...               1          29           4   \n10                  1     ...              24          43          18   \n11                  1     ...               1          29           4   \n12                  1     ...               1          29           4   \n13                  1     ...               1          29           4   \n14                  1     ...               1          29           4   \n15                  1     ...               1          29           4   \n16                  1     ...               1          29           4   \n17                  1     ...              24          43          18   \n18                  1     ...               1          29           4   \n19                  1     ...               1          29           4   \n20                  1     ...               1          29           4   \n21                  1     ...               1          29           4   \n22                  1     ...               1          29           4   \n23                  1     ...              24          43          18   \n24                  1     ...               1          29           4   \n25                  1     ...               1          29           4   \n26                  1     ...              12          37          14   \n27                  1     ...              11          43          10   \n28                  1     ...              12          37          14   \n29                  1     ...              11          43          10   \n...               ...     ...             ...         ...         ...   \n165054              0     ...              26          72          13   \n165055              0     ...              29          57          11   \n165056              0     ...              26          72          13   \n165057              0     ...              29          57          11   \n165058              1     ...              26          72          13   \n165059              1     ...              29          57          11   \n165060              1     ...              26          72          13   \n165061              1     ...              29          57          11   \n165062              1     ...              26          72          13   \n165063              1     ...              29          57          11   \n165064              0     ...              26          72          13   \n165065              0     ...              29          57          11   \n165066              1     ...              26          72          13   \n165067              1     ...              29          57          11   \n165068              1     ...              26          72          13   \n165069              1     ...              29          57          11   \n165070              1     ...              26          72          13   \n165071              1     ...              29          57          11   \n165072              0     ...              26          72          13   \n165073              0     ...              29          57          11   \n165074              0     ...              26          72          13   \n165075              0     ...              29          57          11   \n165076              0     ...              12          13           4   \n165077              0     ...              12          13           4   \n165078              0     ...              12          13           4   \n165079              0     ...              12          13           4   \n165080              0     ...              12          13           4   \n165081              0     ...              12          13           4   \n165082              0     ...              12          13           4   \n165083              0     ...              12          13           4   \n\n        sequence_N  sequence_P  sequence_Q  sequence_R  sequence_S  \\\n0               17          21          10          13          34   \n1                2           7          10          14          12   \n2               26          27           9          28          32   \n3                2           7          10          14          12   \n4               26          27           9          28          32   \n5                2           7          10          14          12   \n6               26          27           9          28          32   \n7                2           7          10          14          12   \n8               26          27           9          28          32   \n9                2           7          10          14          12   \n10              26          27           9          28          32   \n11               2           7          10          14          12   \n12               2           7          10          14          12   \n13               2           7          10          14          12   \n14               2           7          10          14          12   \n15               2           7          10          14          12   \n16               2           7          10          14          12   \n17              26          27           9          28          32   \n18               2           7          10          14          12   \n19               2           7          10          14          12   \n20               2           7          10          14          12   \n21               2           7          10          14          12   \n22               2           7          10          14          12   \n23              26          27           9          28          32   \n24               2           7          10          14          12   \n25               2           7          10          14          12   \n26              23          21          10          18          31   \n27              11          22           7          23          28   \n28              23          21          10          18          31   \n29              11          22           7          23          28   \n...            ...         ...         ...         ...         ...   \n165054          31          31          17          33          46   \n165055          23          19          15          30          45   \n165056          31          31          17          33          46   \n165057          23          19          15          30          45   \n165058          31          31          17          33          46   \n165059          23          19          15          30          45   \n165060          31          31          17          33          46   \n165061          23          19          15          30          45   \n165062          31          31          17          33          46   \n165063          23          19          15          30          45   \n165064          31          31          17          33          46   \n165065          23          19          15          30          45   \n165066          31          31          17          33          46   \n165067          23          19          15          30          45   \n165068          31          31          17          33          46   \n165069          23          19          15          30          45   \n165070          31          31          17          33          46   \n165071          23          19          15          30          45   \n165072          31          31          17          33          46   \n165073          23          19          15          30          45   \n165074          31          31          17          33          46   \n165075          23          19          15          30          45   \n165076          11           6           5           2          17   \n165077          11           6           5           2          17   \n165078          11           6           5           2          17   \n165079          11           6           5           2          17   \n165080          11           6           5           2          17   \n165081          11           6           5           2          17   \n165082          11           6           5           2          17   \n165083          11           6           5           2          17   \n\n        sequence_T  sequence_V  sequence_W  sequence_Y  \n0               28          43           9          24  \n1               17          18          11           8  \n2               29          35           7          17  \n3               17          18          11           8  \n4               29          35           7          17  \n5               17          18          11           8  \n6               29          35           7          17  \n7               17          18          11           8  \n8               29          35           7          17  \n9               17          18          11           8  \n10              29          35           7          17  \n11              17          18          11           8  \n12              17          18          11           8  \n13              17          18          11           8  \n14              17          18          11           8  \n15              17          18          11           8  \n16              17          18          11           8  \n17              29          35           7          17  \n18              17          18          11           8  \n19              17          18          11           8  \n20              17          18          11           8  \n21              17          18          11           8  \n22              17          18          11           8  \n23              29          35           7          17  \n24              17          18          11           8  \n25              17          18          11           8  \n26              38          31           7          14  \n27              22          37           6          11  \n28              38          31           7          14  \n29              22          37           6          11  \n...            ...         ...         ...         ...  \n165054          32          34          13          27  \n165055          34          36          15          21  \n165056          32          34          13          27  \n165057          34          36          15          21  \n165058          32          34          13          27  \n165059          34          36          15          21  \n165060          32          34          13          27  \n165061          34          36          15          21  \n165062          32          34          13          27  \n165063          34          36          15          21  \n165064          32          34          13          27  \n165065          34          36          15          21  \n165066          32          34          13          27  \n165067          34          36          15          21  \n165068          32          34          13          27  \n165069          34          36          15          21  \n165070          32          34          13          27  \n165071          34          36          15          21  \n165072          32          34          13          27  \n165073          34          36          15          21  \n165074          32          34          13          27  \n165075          34          36          15          21  \n165076           5          16           3           6  \n165077           5          16           3           6  \n165078           5          16           3           6  \n165079           5          16           3           6  \n165080           5          16           3           6  \n165081           5          16           3           6  \n165082           5          16           3           6  \n165083           5          16           3           6  \n\n[165084 rows x 194 columns] was passed"
     ]
    }
   ],
   "source": [
    "from sklearn.isotonic import IsotonicRegression\n",
    "ir = IsotonicRegression()\n",
    "ir_score = cross_val_score(x,y_true,cv = 5,scoring = 'neg_mean_squared_erro').mean()\n",
    "ir_score "
   ]
  },
  {
   "cell_type": "code",
   "execution_count": 42,
   "metadata": {},
   "outputs": [
    {
     "data": {
      "text/plain": [
       "-2.2479637569991988"
      ]
     },
     "execution_count": 42,
     "metadata": {},
     "output_type": "execute_result"
    }
   ],
   "source": [
    "from sklearn.linear_model import LinearRegression\n",
    "lr = LinearRegression()\n",
    "lr_score = cross_val_score(lr,x,y_true,cv=5,scoring = 'neg_mean_squared_error').mean()  \n",
    "lr_score"
   ]
  },
  {
   "cell_type": "code",
   "execution_count": null,
   "metadata": {},
   "outputs": [],
   "source": [
    "# from sklearn import neighbors\n",
    "# knn = neighbors.KNeighborsRegressor(5,weights = 'distance')\n",
    "# score_knn = cross_val_score(knn,x,y_true,cv=5,scoring = 'neg_mean_squared_error').mean()"
   ]
  },
  {
   "cell_type": "code",
   "execution_count": 50,
   "metadata": {
    "collapsed": true
   },
   "outputs": [],
   "source": [
    "knn_score = -19.06201361"
   ]
  },
  {
   "cell_type": "markdown",
   "metadata": {},
   "source": [
    "score_knn = -19.06201361<br>\n",
    "算一遍大概用了5分钟"
   ]
  },
  {
   "cell_type": "code",
   "execution_count": 52,
   "metadata": {},
   "outputs": [],
   "source": [
    "# from sklearn import tree\n",
    "# dtr = tree.DecisionTreeRegressor()\n",
    "# dtr_score = cross_val_score(dtr,x,y_true,cv=5,scoring = 'neg_mean_squared_error').mean()  \n",
    "dtr_score =-16.358652077676734"
   ]
  },
  {
   "cell_type": "markdown",
   "metadata": {},
   "source": [
    "dtr_score = -16.358652077676734\n",
    "大概用了1分钟，但是一直没有运行结束"
   ]
  },
  {
   "cell_type": "code",
   "execution_count": 56,
   "metadata": {},
   "outputs": [],
   "source": [
    "# from sklearn import ensemble\n",
    "# rfr = ensemble.RandomForestRegressor(10)\n",
    "# rfr_score = cross_val_score(rfr,x,y_true,cv=5,scoring = 'neg_mean_squared_error').mean()  \n",
    "rfr_score = -14.365528859046643"
   ]
  },
  {
   "cell_type": "markdown",
   "metadata": {},
   "source": [
    "rfr_score = -14.365528859046643\n",
    "用了5分钟"
   ]
  },
  {
   "cell_type": "code",
   "execution_count": null,
   "metadata": {
    "collapsed": true
   },
   "outputs": [],
   "source": [
    "# from sklearn import svm\n",
    "# svr = svm.SVR(kernel='rbf', C=1e3, gamma=0.1)\n",
    "# cross_val_score(svr,x,y_true,cv=2,scoring = 'neg_mean_squared_error').mean()\n",
    "# 这个算了5分钟还没算出来，放弃了"
   ]
  },
  {
   "cell_type": "code",
   "execution_count": 44,
   "metadata": {},
   "outputs": [
    {
     "name": "stderr",
     "output_type": "stream",
     "text": [
      "E:\\miniconda\\envs\\course_py35\\lib\\site-packages\\sklearn\\linear_model\\stochastic_gradient.py:84: FutureWarning: max_iter and tol parameters have been added in <class 'sklearn.linear_model.stochastic_gradient.SGDRegressor'> in 0.19. If both are left unset, they default to max_iter=5 and tol=None. If tol is not None, max_iter defaults to max_iter=1000. From 0.21, default max_iter will be 1000, and default tol will be 1e-3.\n",
      "  \"and default tol will be 1e-3.\" % type(self), FutureWarning)\n"
     ]
    },
    {
     "data": {
      "text/plain": [
       "-2.8364053732312495e+36"
      ]
     },
     "execution_count": 44,
     "metadata": {},
     "output_type": "execute_result"
    }
   ],
   "source": [
    "from sklearn import linear_model\n",
    "sgdr = linear_model.stochastic_gradient.SGDRegressor()\n",
    "sgdr_score = cross_val_score(sgdr,x,y_true,cv=5,scoring = 'neg_mean_squared_error').mean()  \n",
    "\n",
    "sgdr_score"
   ]
  },
  {
   "cell_type": "code",
   "execution_count": 45,
   "metadata": {},
   "outputs": [
    {
     "name": "stderr",
     "output_type": "stream",
     "text": [
      "E:\\miniconda\\envs\\course_py35\\lib\\site-packages\\sklearn\\linear_model\\coordinate_descent.py:491: ConvergenceWarning: Objective did not converge. You might want to increase the number of iterations. Fitting data with very small alpha may cause precision problems.\n",
      "  ConvergenceWarning)\n",
      "E:\\miniconda\\envs\\course_py35\\lib\\site-packages\\sklearn\\linear_model\\coordinate_descent.py:491: ConvergenceWarning: Objective did not converge. You might want to increase the number of iterations. Fitting data with very small alpha may cause precision problems.\n",
      "  ConvergenceWarning)\n"
     ]
    },
    {
     "data": {
      "text/plain": [
       "-2.3498172135188775"
      ]
     },
     "execution_count": 45,
     "metadata": {},
     "output_type": "execute_result"
    }
   ],
   "source": [
    "from sklearn import linear_model\n",
    "lasso = linear_model.Lasso(alpha = 0.1)\n",
    "lasso_score = cross_val_score(lasso,x,y_true,cv=5,scoring = 'neg_mean_squared_error').mean() \n",
    "lasso_score"
   ]
  },
  {
   "cell_type": "markdown",
   "metadata": {},
   "source": [
    "lasso_score = -2.34899458418018\n",
    "大概算了2分钟"
   ]
  },
  {
   "cell_type": "code",
   "execution_count": 46,
   "metadata": {},
   "outputs": [
    {
     "data": {
      "text/plain": [
       "-2.2473856639920244"
      ]
     },
     "execution_count": 46,
     "metadata": {},
     "output_type": "execute_result"
    }
   ],
   "source": [
    "ridge = linear_model.Ridge(alpha = 0.5)\n",
    "ridge_score = cross_val_score(ridge,x,y_true,cv=5,scoring = 'neg_mean_squared_error').mean() \n",
    "ridge_score"
   ]
  },
  {
   "cell_type": "code",
   "execution_count": 47,
   "metadata": {},
   "outputs": [
    {
     "data": {
      "text/plain": [
       "-2.2402294166956773"
      ]
     },
     "execution_count": 47,
     "metadata": {},
     "output_type": "execute_result"
    }
   ],
   "source": [
    "from sklearn import linear_model\n",
    "br = linear_model.BayesianRidge()\n",
    "br_score = cross_val_score(br,x,y_true,cv=5,scoring = 'neg_mean_squared_error').mean()  \n",
    "br_score"
   ]
  },
  {
   "cell_type": "code",
   "execution_count": 58,
   "metadata": {
    "collapsed": true
   },
   "outputs": [],
   "source": [
    "# from sklearn.ensemble import AdaBoostRegressor\n",
    "# abr = AdaBoostRegressor()\n",
    "# abr_score = cross_val_score(abr,x,y_true,cv=5,scoring='neg_mean_squared_error').mean()  \n",
    "# abr_score\n",
    "abr_score = np.nan\n",
    "# 算了5分钟+，放弃用它了"
   ]
  },
  {
   "cell_type": "code",
   "execution_count": 59,
   "metadata": {},
   "outputs": [],
   "source": [
    "# from sklearn.ensemble import GradientBoostingRegressor\n",
    "# gbr = GradientBoostingRegressor()\n",
    "# gbr_score = cross_val_score(gbr,x,y_true,cv=5,scoring='neg_mean_squared_error').mean()  \n",
    "gbr_score  =-8.8891131156880245\n",
    "# 计算了5分钟+ ，效果也不好，以后不用了"
   ]
  },
  {
   "cell_type": "code",
   "execution_count": 60,
   "metadata": {},
   "outputs": [],
   "source": [
    "# from sklearn.ensemble import BaggingRegressor\n",
    "# bgr = BaggingRegressor()\n",
    "# bgr_score = cross_val_score(bgr,x,y_true,cv=5,scoring = 'neg_mean_squared_error').mean()  \n",
    "# 算了5分钟+，放弃用这个了\n",
    "bgr_score = -15.202450905551052"
   ]
  },
  {
   "cell_type": "code",
   "execution_count": 61,
   "metadata": {
    "collapsed": true
   },
   "outputs": [],
   "source": [
    "# from sklearn.tree import ExtraTreeRegressor\n",
    "# etr = ExtraTreeRegressor()\n",
    "# etr_score = cross_val_score(etr,x,y_true,cv=5,scoring = 'neg_mean_squared_error').mean()  \n",
    "etr_score = -3.9789111357868365\n",
    "# 用时5+，放弃了"
   ]
  },
  {
   "cell_type": "code",
   "execution_count": 62,
   "metadata": {},
   "outputs": [],
   "source": [
    "models = [['LinearRegression',lr_score,'instantly'],\n",
    "          ['KNeighborsRegressor',knn_score,'5 min +'],\n",
    "          ['DecisionTreeRegressor',dtr_score,'1 min +'],\n",
    "          ['RandomForestRegressor',rfr_score,'5 min +'],\n",
    "          ['SGDRegressor',sgdr_score,'instantly'],\n",
    "          ['Lasso',lasso_score,'2 min +'],\n",
    "          ['Ridge',ridge_score,'instantly'],\n",
    "          ['BayesianRidge',br_score,'instantly'],\n",
    "          ['AdaBoostRegressor',abr_score,'inf'],\n",
    "         [ 'GradientBoostingRegressor',gbr_score,'instantly'],\n",
    "          ['BaggingRegressor',bgr_score,'instantly'],\n",
    "         [ 'ExtraTreeRegressor',etr_score,'5 min +']]"
   ]
  },
  {
   "cell_type": "code",
   "execution_count": 63,
   "metadata": {},
   "outputs": [
    {
     "data": {
      "text/html": [
       "<div>\n",
       "<style>\n",
       "    .dataframe thead tr:only-child th {\n",
       "        text-align: right;\n",
       "    }\n",
       "\n",
       "    .dataframe thead th {\n",
       "        text-align: left;\n",
       "    }\n",
       "\n",
       "    .dataframe tbody tr th {\n",
       "        vertical-align: top;\n",
       "    }\n",
       "</style>\n",
       "<table border=\"1\" class=\"dataframe\">\n",
       "  <thead>\n",
       "    <tr style=\"text-align: right;\">\n",
       "      <th></th>\n",
       "      <th>model</th>\n",
       "      <th>score</th>\n",
       "      <th>time</th>\n",
       "    </tr>\n",
       "  </thead>\n",
       "  <tbody>\n",
       "    <tr>\n",
       "      <th>7</th>\n",
       "      <td>BayesianRidge</td>\n",
       "      <td>-2.240229e+00</td>\n",
       "      <td>instantly</td>\n",
       "    </tr>\n",
       "    <tr>\n",
       "      <th>6</th>\n",
       "      <td>Ridge</td>\n",
       "      <td>-2.247386e+00</td>\n",
       "      <td>instantly</td>\n",
       "    </tr>\n",
       "    <tr>\n",
       "      <th>0</th>\n",
       "      <td>LinearRegression</td>\n",
       "      <td>-2.247964e+00</td>\n",
       "      <td>instantly</td>\n",
       "    </tr>\n",
       "    <tr>\n",
       "      <th>5</th>\n",
       "      <td>Lasso</td>\n",
       "      <td>-2.349817e+00</td>\n",
       "      <td>2 min +</td>\n",
       "    </tr>\n",
       "    <tr>\n",
       "      <th>11</th>\n",
       "      <td>ExtraTreeRegressor</td>\n",
       "      <td>-3.978911e+00</td>\n",
       "      <td>5 min +</td>\n",
       "    </tr>\n",
       "    <tr>\n",
       "      <th>9</th>\n",
       "      <td>GradientBoostingRegressor</td>\n",
       "      <td>-8.889113e+00</td>\n",
       "      <td>instantly</td>\n",
       "    </tr>\n",
       "    <tr>\n",
       "      <th>3</th>\n",
       "      <td>RandomForestRegressor</td>\n",
       "      <td>-1.436553e+01</td>\n",
       "      <td>5 min +</td>\n",
       "    </tr>\n",
       "    <tr>\n",
       "      <th>10</th>\n",
       "      <td>BaggingRegressor</td>\n",
       "      <td>-1.520245e+01</td>\n",
       "      <td>instantly</td>\n",
       "    </tr>\n",
       "    <tr>\n",
       "      <th>2</th>\n",
       "      <td>DecisionTreeRegressor</td>\n",
       "      <td>-1.635865e+01</td>\n",
       "      <td>1 min +</td>\n",
       "    </tr>\n",
       "    <tr>\n",
       "      <th>1</th>\n",
       "      <td>KNeighborsRegressor</td>\n",
       "      <td>-1.906201e+01</td>\n",
       "      <td>5 min +</td>\n",
       "    </tr>\n",
       "    <tr>\n",
       "      <th>4</th>\n",
       "      <td>SGDRegressor</td>\n",
       "      <td>-2.836405e+36</td>\n",
       "      <td>instantly</td>\n",
       "    </tr>\n",
       "    <tr>\n",
       "      <th>8</th>\n",
       "      <td>AdaBoostRegressor</td>\n",
       "      <td>NaN</td>\n",
       "      <td>inf</td>\n",
       "    </tr>\n",
       "  </tbody>\n",
       "</table>\n",
       "</div>"
      ],
      "text/plain": [
       "                        model         score       time\n",
       "7               BayesianRidge -2.240229e+00  instantly\n",
       "6                       Ridge -2.247386e+00  instantly\n",
       "0            LinearRegression -2.247964e+00  instantly\n",
       "5                       Lasso -2.349817e+00    2 min +\n",
       "11         ExtraTreeRegressor -3.978911e+00    5 min +\n",
       "9   GradientBoostingRegressor -8.889113e+00  instantly\n",
       "3       RandomForestRegressor -1.436553e+01    5 min +\n",
       "10           BaggingRegressor -1.520245e+01  instantly\n",
       "2       DecisionTreeRegressor -1.635865e+01    1 min +\n",
       "1         KNeighborsRegressor -1.906201e+01    5 min +\n",
       "4                SGDRegressor -2.836405e+36  instantly\n",
       "8           AdaBoostRegressor           NaN        inf"
      ]
     },
     "execution_count": 63,
     "metadata": {},
     "output_type": "execute_result"
    }
   ],
   "source": [
    "df_score = pd.DataFrame(models)\n",
    "df_score.columns = ['model','score','time']\n",
    "df_score.sort_values(by='score',ascending = False) "
   ]
  },
  {
   "cell_type": "markdown",
   "metadata": {},
   "source": [
    "## 测试集"
   ]
  },
  {
   "cell_type": "code",
   "execution_count": 66,
   "metadata": {},
   "outputs": [
    {
     "data": {
      "text/plain": [
       "413"
      ]
     },
     "execution_count": 66,
     "metadata": {},
     "output_type": "execute_result"
    }
   ],
   "source": [
    "len(set(df_affinity_test.Protein_ID))"
   ]
  },
  {
   "cell_type": "markdown",
   "metadata": {},
   "source": [
    "只有413种不同的Protein_ID"
   ]
  },
  {
   "cell_type": "code",
   "execution_count": null,
   "metadata": {},
   "outputs": [],
   "source": [
    "set(df_affinity_test.Protein_ID).isdisjoint(set(df_protein_train.Protein_ID))"
   ]
  },
  {
   "cell_type": "markdown",
   "metadata": {},
   "source": [
    "a.isdisjoint(b)  True if a and b have no elements in common <br>\n",
    "需要预测(test)的蛋白质都不在训练集中，所以预测时要从氨基酸这个level去预测，训练模型时也要从这个level出发"
   ]
  },
  {
   "cell_type": "code",
   "execution_count": null,
   "metadata": {},
   "outputs": [],
   "source": [
    "set(df_affinity_test.Molecule_ID).issubset(set(df_molecule.Molecule_ID))"
   ]
  },
  {
   "cell_type": "markdown",
   "metadata": {},
   "source": [
    "a.issubset(b) N/A True if the elements of a are all contained in b <br>\n",
    "需要预测(test)的小分子信息都在小分子数据集(df_molecule)中"
   ]
  },
  {
   "cell_type": "code",
   "execution_count": 65,
   "metadata": {
    "collapsed": true
   },
   "outputs": [],
   "source": [
    "df_affinity_test = pd.read_csv('E:\\\\MySQL_data\\\\datas_molecule\\\\df_affinity_test_toBePredicted.csv')     \n",
    "\n",
    "df_protein_test = pd.read_csv('E:\\\\MySQL_data\\\\datas_molecule\\\\df_protein_test.csv')    \n",
    "\n",
    "df_ki_test = df_affinity_test.merge(df_protein_test,how = 'left',on = 'Protein_ID').merge(df_molecule,how = 'left',on = 'Molecule_ID')   \n",
    "\n",
    "df_ki_test = df_ki_test.merge(feat,how = 'left',on = 'Molecule_ID')\n",
    "\n",
    "df_ki_test['sequence_length'] = df_ki_test.Sequence.str.len()"
   ]
  },
  {
   "cell_type": "code",
   "execution_count": 67,
   "metadata": {
    "collapsed": true
   },
   "outputs": [],
   "source": [
    "for i in amino_acid:\n",
    "    df_ki_test['sequence_{}'.format(i)] = df_ki_train.Sequence.str.count(i)"
   ]
  },
  {
   "cell_type": "code",
   "execution_count": 68,
   "metadata": {
    "collapsed": true
   },
   "outputs": [],
   "source": [
    "df_ki_test['sequence_mw'] = df_ki_test.Sequence.map(mw)"
   ]
  },
  {
   "cell_type": "code",
   "execution_count": 73,
   "metadata": {
    "collapsed": true
   },
   "outputs": [],
   "source": [
    "model = br.fit(x,y_true)"
   ]
  },
  {
   "cell_type": "code",
   "execution_count": 72,
   "metadata": {
    "collapsed": true
   },
   "outputs": [],
   "source": [
    "x_test = df_ki_test[features]\n",
    "y_pred = model.predict(x_test)\n",
    "df_ki_test['Ki'] = y_pred\n",
    "df_ki_test[['Protein_ID','Molecule_ID','Ki']].to_csv('E:\\\\MySQL_data\\\\datas_molecule\\\\df_affinity_test.csv',\n",
    "                                                     index = False,\n",
    "                                                    encoding = 'utf-8',\n",
    "                                                    header = True)   "
   ]
  }
 ],
 "metadata": {
  "kernelspec": {
   "display_name": "Python 3",
   "language": "python",
   "name": "python3"
  },
  "language_info": {
   "codemirror_mode": {
    "name": "ipython",
    "version": 3
   },
   "file_extension": ".py",
   "mimetype": "text/x-python",
   "name": "python",
   "nbconvert_exporter": "python",
   "pygments_lexer": "ipython3",
   "version": "3.5.4"
  }
 },
 "nbformat": 4,
 "nbformat_minor": 2
}
